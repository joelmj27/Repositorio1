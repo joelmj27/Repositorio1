{
 "cells": [
  {
   "cell_type": "code",
   "execution_count": 3,
   "metadata": {},
   "outputs": [
    {
     "data": {
      "text/plain": [
       "<bound method DataFrame.info of          Country  Density\\n(P/Km2) Abbreviation  Agricultural Land( %)  \\\n",
       "0    Afghanistan              60.0           AF                   58.1   \n",
       "1        Albania             105.0           AL                   43.1   \n",
       "2        Algeria              18.0           DZ                   17.4   \n",
       "3        Andorra             164.0           AD                   40.0   \n",
       "4         Angola              26.0           AO                   47.5   \n",
       "..           ...               ...          ...                    ...   \n",
       "190    Venezuela              32.0           VE                   24.5   \n",
       "191      Vietnam             314.0           VN                   39.3   \n",
       "192        Yemen              56.0           YE                   44.6   \n",
       "193       Zambia              25.0           ZM                   32.1   \n",
       "194     Zimbabwe              38.0           ZW                   41.9   \n",
       "\n",
       "    Land Area(Km2) Armed Forces size  Birth Rate  Calling Code  \\\n",
       "0          652,230           323,000       32.49          93.0   \n",
       "1           28,748             9,000       11.78         355.0   \n",
       "2        2,381,741           317,000       24.28         213.0   \n",
       "3              468               NaN        7.20         376.0   \n",
       "4        1,246,700           117,000       40.73         244.0   \n",
       "..             ...               ...         ...           ...   \n",
       "190        912,050           343,000       17.88          58.0   \n",
       "191        331,210           522,000       16.75          84.0   \n",
       "192        527,968            40,000       30.45         967.0   \n",
       "193        752,618            16,000       36.19         260.0   \n",
       "194        390,757            51,000       30.68         263.0   \n",
       "\n",
       "    Capital/Major City Co2-Emissions       CPI  CPI Change (%) Currency-Code  \\\n",
       "0                Kabul         8,672     149.9             2.3           AFN   \n",
       "1               Tirana         4,536    119.05             1.4           ALL   \n",
       "2              Algiers       150,006    151.36             2.0           DZD   \n",
       "3     Andorra la Vella           469       NaN             NaN           EUR   \n",
       "4               Luanda        34,693    261.73            17.1           AOA   \n",
       "..                 ...           ...       ...             ...           ...   \n",
       "190            Caracas       164,175  2,740.27           254.9           VED   \n",
       "191              Hanoi       192,668    163.52             2.8           VND   \n",
       "192              Sanaa        10,609    157.58             8.1           YER   \n",
       "193             Lusaka         5,141    212.31             9.2           ZMW   \n",
       "194             Harare        10,983    105.51             0.9           NaN   \n",
       "\n",
       "     Fertility Rate  Forested Area (%)  Gasoline Price  \n",
       "0              4.47                2.1            0.70  \n",
       "1              1.62               28.1            1.36  \n",
       "2              3.02                0.8            0.28  \n",
       "3              1.27               34.0            1.51  \n",
       "4              5.52               46.3            0.97  \n",
       "..              ...                ...             ...  \n",
       "190            2.27               52.7            0.00  \n",
       "191            2.05               48.1            0.80  \n",
       "192            3.79                1.0            0.92  \n",
       "193            4.63               65.2            1.40  \n",
       "194            3.62               35.5            1.34  \n",
       "\n",
       "[195 rows x 16 columns]>"
      ]
     },
     "execution_count": 3,
     "metadata": {},
     "output_type": "execute_result"
    }
   ],
   "source": [
    "# Tratamiento de datos\n",
    "import pandas as pd\n",
    "import numpy as np\n",
    "db=pd.read_csv('world-data-1.csv',index_col=0)\n",
    "db.head()\n",
    "db.shape #indica el numero total de filas y columnas\n",
    "db.columns\n",
    "db['Country'].unique()\n",
    "db['Country'].value_counts()\n",
    "db.isnull().sum()\n",
    "db.duplicated().sum()#indica la cantidad de valores duplicados\n",
    "db.info"
   ]
  },
  {
   "cell_type": "code",
   "execution_count": 4,
   "metadata": {},
   "outputs": [
    {
     "data": {
      "text/plain": [
       "'Tbilisi'"
      ]
     },
     "execution_count": 4,
     "metadata": {},
     "output_type": "execute_result"
    }
   ],
   "source": [
    "db.loc[db['Birth Rate']> 40] #filtrar filas con loc que tengan mas de 40 en la columna Birth Rate\n",
    "db.loc[db['Fertility Rate']>6,['Country','Capital/Major City']] #Se filtra la columna Fertility y se muestran los resultados de las dos filas\n",
    "db.loc[db['Abbreviation']=='IT',['Gasoline Price']]\n",
    "db.loc[7:9]#Seleccionar las filas 7-9 para todas las columnas\n",
    "db.iloc[:,[2,5,10]]\n",
    "db.iloc[63,8]"
   ]
  },
  {
   "cell_type": "code",
   "execution_count": 5,
   "metadata": {},
   "outputs": [],
   "source": [
    "df2=pd.read_csv('world-data-2.csv',index_col=0)\n",
    "world = db.merge(df2, how = 'inner', left_on = 'Country', right_on = 'country')\n",
    "world=world.drop(columns='country')\n",
    "world.to_csv('Worl-data.csv', index=False)"
   ]
  },
  {
   "cell_type": "code",
   "execution_count": 6,
   "metadata": {},
   "outputs": [
    {
     "data": {
      "text/plain": [
       "82    Israel\n",
       "Name: Country, dtype: object"
      ]
     },
     "execution_count": 6,
     "metadata": {},
     "output_type": "execute_result"
    }
   ],
   "source": [
    "mortalidad_50_75 = world['Infant mortality'].between(50, 75 , inclusive = 'both')#Se genera una serie de True /False para ver si cumple la condicion\n",
    "world[mortalidad_50_75]['Country']#Se agrega un filtro dentro de dataframe donde se filtra solo por los indices que tienen un valor True\n",
    "natalidad=world['Birth Rate']>=15 #Generas una serie de boleanos\n",
    "esperanza=world['Life expectancy']>80 #Generas una serie de boleanos\n",
    "world[natalidad & esperanza]['Country'] #Se filtra con la union de los dos boleanos y se muestra el valor de la columna Country"
   ]
  },
  {
   "cell_type": "code",
   "execution_count": 7,
   "metadata": {},
   "outputs": [],
   "source": [
    "world[world['Country'].str.contains('ar', case=True)]['Country']\n",
    "\n",
    "def cantidad_supervivientes(Columna1,Columna2):\n",
    "  try:\n",
    "    rate=Columna1\n",
    "    vivos=1-(Columna2/1000)\n",
    "    infantes=rate*vivos\n",
    "    return infantes\n",
    "  except:\n",
    "    np.nan\n",
    "world['Vivos']=world.apply(lambda x: cantidad_supervivientes (x['Birth Rate'], x['Infant mortality']), axis = 1) #el axis=1 sirve para aplicarlo a cada fila"
   ]
  },
  {
   "cell_type": "code",
   "execution_count": 8,
   "metadata": {},
   "outputs": [
    {
     "data": {
      "text/html": [
       "<div>\n",
       "<style scoped>\n",
       "    .dataframe tbody tr th:only-of-type {\n",
       "        vertical-align: middle;\n",
       "    }\n",
       "\n",
       "    .dataframe tbody tr th {\n",
       "        vertical-align: top;\n",
       "    }\n",
       "\n",
       "    .dataframe thead th {\n",
       "        text-align: right;\n",
       "    }\n",
       "</style>\n",
       "<table border=\"1\" class=\"dataframe\">\n",
       "  <thead>\n",
       "    <tr style=\"text-align: right;\">\n",
       "      <th></th>\n",
       "      <th>Continent</th>\n",
       "      <th>Physicians per thousand</th>\n",
       "    </tr>\n",
       "  </thead>\n",
       "  <tbody>\n",
       "    <tr>\n",
       "      <th>0</th>\n",
       "      <td>Africa</td>\n",
       "      <td>0.359091</td>\n",
       "    </tr>\n",
       "    <tr>\n",
       "      <th>1</th>\n",
       "      <td>America</td>\n",
       "      <td>1.996667</td>\n",
       "    </tr>\n",
       "    <tr>\n",
       "      <th>2</th>\n",
       "      <td>Asia</td>\n",
       "      <td>1.189140</td>\n",
       "    </tr>\n",
       "    <tr>\n",
       "      <th>3</th>\n",
       "      <td>Europa</td>\n",
       "      <td>3.693750</td>\n",
       "    </tr>\n",
       "    <tr>\n",
       "      <th>4</th>\n",
       "      <td>Oceania</td>\n",
       "      <td>1.465000</td>\n",
       "    </tr>\n",
       "  </tbody>\n",
       "</table>\n",
       "</div>"
      ],
      "text/plain": [
       "  Continent  Physicians per thousand\n",
       "0    Africa                 0.359091\n",
       "1   America                 1.996667\n",
       "2      Asia                 1.189140\n",
       "3    Europa                 3.693750\n",
       "4   Oceania                 1.465000"
      ]
     },
     "execution_count": 8,
     "metadata": {},
     "output_type": "execute_result"
    }
   ],
   "source": [
    "world['Vivos']\n",
    "media = world[['Continent','Density\\n(P/Km2)']].groupby(by='Continent').mean() #world.groupby('Continent')['Density\\n(P/Km2)'].mean().reset_index() (otra forma)\n",
    "mediana=world.groupby('Official language')['Life expectancy'].median().reset_index()\n",
    "mortalidadmax_moneda=world.groupby('Currency-Code')['Infant mortality'].max().reset_index()\n",
    "world.groupby('Continent')['Minimum wage'].agg(['min','max','mean']).reset_index()\n",
    "world.groupby('Continent')['Physicians per thousand'].mean().reset_index()"
   ]
  },
  {
   "cell_type": "code",
   "execution_count": 25,
   "metadata": {},
   "outputs": [
    {
     "data": {
      "text/plain": [
       "'AO'"
      ]
     },
     "execution_count": 25,
     "metadata": {},
     "output_type": "execute_result"
    }
   ],
   "source": [
    "ultimasfilas=world.iloc[-5:] #Ultimas 5 filas de un dataframe\n",
    "world.sample(5) #5 Filas aleatorias del conjunto de datos\n",
    "world.tail(5)#Ultimas 5 filas de un dataframe\n",
    "world.iloc[2:5]\n",
    "world.loc[world['Capital/Major City']== 'Tirana'] #iloc sirve para seleccionar filas en cambio loc sirve para condiciones\n",
    "world.loc[world['CPI']== '128.85']\n",
    "world.loc[:,['Country','Co2-Emissions']] #Seleccionar dos columnas de un dataframe\n",
    "world.loc[world['CPI Change (%)']==2]\n",
    "world.loc[world['Abbreviation']=='AF',['Birth Rate']]\n",
    "world.iloc[:,0:5]\n",
    "world.iloc[:,0:3]\n",
    "world.iloc[:,[0,2,5]]\n",
    "world.iloc[[0,2,4]]\n",
    "world.iloc[-1,-1]\n",
    "world.iloc[1:4]\n",
    "world.iloc[:,[1,4,6]]\n",
    "world.iloc[4,2]\n"
   ]
  }
 ],
 "metadata": {
  "kernelspec": {
   "display_name": "venv",
   "language": "python",
   "name": "python3"
  },
  "language_info": {
   "codemirror_mode": {
    "name": "ipython",
    "version": 3
   },
   "file_extension": ".py",
   "mimetype": "text/x-python",
   "name": "python",
   "nbconvert_exporter": "python",
   "pygments_lexer": "ipython3",
   "version": "3.12.5"
  }
 },
 "nbformat": 4,
 "nbformat_minor": 2
}
