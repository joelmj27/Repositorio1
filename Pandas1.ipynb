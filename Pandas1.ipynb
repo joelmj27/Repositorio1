{
 "cells": [
  {
   "cell_type": "code",
   "execution_count": 4,
   "metadata": {},
   "outputs": [],
   "source": [
    "# Tratamiento de datos\n",
    "import pandas as pd\n",
    "import numpy as np\n",
    "db=pd.read_csv('world-data-1.csv',index_col=0)\n",
    "db.head()\n",
    "db.shape #indica el numero total de filas y columnas\n",
    "db.columns\n",
    "db['Country'].unique()\n",
    "db['Country'].value_counts()\n",
    "db.isnull().sum()\n",
    "db.duplicated().sum()#indica la cantidad de valores duplicados\n",
    "db.info\n",
    "db.describe(include ='0').T"
   ]
  },
  {
   "cell_type": "code",
   "execution_count": 43,
   "metadata": {},
   "outputs": [
    {
     "data": {
      "text/plain": [
       "'Tbilisi'"
      ]
     },
     "execution_count": 43,
     "metadata": {},
     "output_type": "execute_result"
    }
   ],
   "source": [
    "db.loc[db['Birth Rate']> 40] #filtrar filas con loc que tengan mas de 40 en la columna Birth Rate\n",
    "db.loc[db['Fertility Rate']>6,['Country','Capital/Major City']] #Se filtra la columna Fertility y se muestran los resultados de las dos filas\n",
    "db.loc[db['Abbreviation']=='IT',['Gasoline Price']]\n",
    "db.loc[7:9]#Seleccionar las filas 7-9 para todas las columnas\n",
    "db.iloc[:,[2,5,10]]\n",
    "db.iloc[63,8]"
   ]
  },
  {
   "cell_type": "code",
   "execution_count": null,
   "metadata": {},
   "outputs": [],
   "source": [
    "hola"
   ]
  }
 ],
 "metadata": {
  "kernelspec": {
   "display_name": "venv",
   "language": "python",
   "name": "python3"
  },
  "language_info": {
   "codemirror_mode": {
    "name": "ipython",
    "version": 3
   },
   "file_extension": ".py",
   "mimetype": "text/x-python",
   "name": "python",
   "nbconvert_exporter": "python",
   "pygments_lexer": "ipython3",
   "version": "3.12.5"
  }
 },
 "nbformat": 4,
 "nbformat_minor": 2
}
